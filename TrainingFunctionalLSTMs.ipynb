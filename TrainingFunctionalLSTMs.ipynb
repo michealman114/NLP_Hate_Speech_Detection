{
 "cells": [
  {
   "cell_type": "code",
   "execution_count": 1,
   "id": "b0e64510",
   "metadata": {},
   "outputs": [],
   "source": [
    "import torch\n",
    "import torch.nn as nn \n",
    "import torch.nn.functional as F\n",
    "import torch.optim as optim\n",
    "import torch.utils.data as torch_data"
   ]
  },
  {
   "cell_type": "code",
   "execution_count": 20,
   "id": "96f2c010",
   "metadata": {},
   "outputs": [
    {
     "name": "stdout",
     "output_type": "stream",
     "text": [
      "running on CPU\n"
     ]
    }
   ],
   "source": [
    "from torch import cuda\n",
    "\n",
    "if cuda.is_available():\n",
    "    device = 'cuda'\n",
    "    torch.cuda.manual_seed_all(seed)\n",
    "    print(\"running on GPU:\", torch.cuda.get_device_name(0))\n",
    "else:\n",
    "    device = 'cpu'\n",
    "    print(\"running on CPU\")"
   ]
  },
  {
   "cell_type": "code",
   "execution_count": 3,
   "id": "fc44ed98",
   "metadata": {
    "scrolled": true
   },
   "outputs": [],
   "source": [
    "from CommentsDatasets import * # torch dataset setup\n",
    "from models import * # all our LSTM based models"
   ]
  },
  {
   "cell_type": "code",
   "execution_count": 4,
   "id": "1ea55068",
   "metadata": {},
   "outputs": [],
   "source": [
    "train_comment_array = torch.load('./StoredTensors/w2v_train_comment_array.pt')\n",
    "train_title_array = torch.load('./StoredTensors/w2v_train_title_array.pt')\n",
    "train_labels = torch.load('./StoredTensors/w2v_train_labels.pt')\n"
   ]
  },
  {
   "cell_type": "code",
   "execution_count": 5,
   "id": "8cbcad50",
   "metadata": {},
   "outputs": [
    {
     "name": "stdout",
     "output_type": "stream",
     "text": [
      "float32\n",
      "<class 'numpy.ndarray'>\n",
      "float32\n",
      "<class 'numpy.ndarray'>\n"
     ]
    }
   ],
   "source": [
    "print(train_comment_array.dtype)\n",
    "print(type(train_comment_array))\n",
    "print(train_title_array.dtype)\n",
    "print(type(train_title_array))"
   ]
  },
  {
   "cell_type": "code",
   "execution_count": 6,
   "id": "651a460d",
   "metadata": {},
   "outputs": [
    {
     "name": "stdout",
     "output_type": "stream",
     "text": [
      "(1528, 244, 300) (1528, 13, 300) (1528,)\n",
      "(102, 126, 300) (102, 19, 300) (102,)\n"
     ]
    }
   ],
   "source": [
    "\"\"\"\n",
    "input data should be: (batch_size, max_length, embed_dim)\n",
    "labels should be: (batch_size,)\n",
    "\"\"\"\n",
    "print(train_comment_array.shape, train_title_array.shape, train_labels.shape)\n",
    "print(test_comment_array.shape, test_title_array.shape, test_labels.shape)"
   ]
  },
  {
   "cell_type": "code",
   "execution_count": 26,
   "id": "b6833068",
   "metadata": {},
   "outputs": [],
   "source": [
    "from tqdm import tqdm\n",
    "\n",
    "def train(training_dataset, n_epochs, batch_size, device, modeltype, model = None, embed_dim = 300, bidi = False, attention = False):\n",
    "    if model is None:\n",
    "        \"\"\"\n",
    "        embed_dim = 768 for BERT embeddings\n",
    "        embed_dim = 300 for Word2Vec embeddings \n",
    "        \"\"\"\n",
    "        model = modeltype(embed_dim = embed_dim, bidi=bidi, attention=attention).to(device)\n",
    "    else:\n",
    "        model = model.to(device)\n",
    "        \n",
    "    opt = optim.Adam(model.parameters(), lr=0.001)\n",
    "\n",
    "    loader = torch_data.DataLoader(training_dataset, batch_size=batch_size, shuffle=True)\n",
    "\n",
    "    loss_fn = nn.BCELoss()\n",
    "\n",
    "    losses = []\n",
    "    for epoch in tqdm(range(n_epochs)):\n",
    "        epoch_loss = 0\n",
    "        for comment, comment_pm, label in loader:\n",
    "            comment = comment.to(device)\n",
    "            label = label.to(device).type(torch.float32)\n",
    "\n",
    "            preds = model.forward(comment)\n",
    "            print(comment.shape, label.shape)\n",
    "            print(preds.shape)\n",
    "            \n",
    "            print(\"label = \")\n",
    "            print(label)\n",
    "            print(\"Preds = \")\n",
    "            print(preds)\n",
    "            \n",
    "            return model, losses\n",
    "\n",
    "            opt.zero_grad()\n",
    "            loss = loss_fn(preds, label)\n",
    "            loss.backward()\n",
    "            opt.step()\n",
    "\n",
    "            epoch_loss += loss.item()\n",
    "        print('Loss:', epoch_loss)\n",
    "        losses.append(epoch_loss)\n",
    "\n",
    "\n",
    "    return model,losses"
   ]
  },
  {
   "cell_type": "code",
   "execution_count": 27,
   "id": "e328c602",
   "metadata": {},
   "outputs": [
    {
     "name": "stdout",
     "output_type": "stream",
     "text": [
      "LSTM with bidirectional = False, attention = False\n"
     ]
    },
    {
     "name": "stderr",
     "output_type": "stream",
     "text": [
      "  0%|                                                     | 0/5 [00:00<?, ?it/s]"
     ]
    },
    {
     "name": "stdout",
     "output_type": "stream",
     "text": [
      "torch.Size([16, 244, 300]) torch.Size([16])\n",
      "torch.Size([16])\n",
      "label = \n",
      "tensor([1., 1., 0., 0., 0., 1., 0., 0., 1., 1., 0., 0., 0., 0., 0., 0.])\n",
      "Preds = \n",
      "tensor([0.6473, 0.6272, 0.6490, 0.6323, 0.6368, 0.6406, 0.6322, 0.6364, 0.6157,\n",
      "        0.6220, 0.6303, 0.6423, 0.6501, 0.6507, 0.7809, 0.6376],\n",
      "       grad_fn=<SigmoidBackward0>)\n"
     ]
    },
    {
     "name": "stderr",
     "output_type": "stream",
     "text": [
      "\n"
     ]
    }
   ],
   "source": [
    "num_epochs = 5 #running on colab, use 30-40ish\n",
    "training_data = GeneralDataset(train_comment_array, torch.zeros(1528, 244), train_labels)\n",
    "trained_model = train(training_data, num_epochs, 16, device, Full_LSTM_Model)"
   ]
  },
  {
   "cell_type": "code",
   "execution_count": 33,
   "id": "33b5a235",
   "metadata": {},
   "outputs": [
    {
     "name": "stdout",
     "output_type": "stream",
     "text": [
      "[[0.94724951 0.44002406]\n",
      " [0.77703905 0.94997337]\n",
      " [0.52749621 0.67021418]\n",
      " [0.60359899 0.52181265]\n",
      " [0.30234545 0.07027866]\n",
      " [0.20096237 0.82034163]\n",
      " [0.68728773 0.10254108]\n",
      " [0.23066006 0.24203252]\n",
      " [0.57687544 0.49158575]\n",
      " [0.22550486 0.92975014]]\n"
     ]
    }
   ],
   "source": [
    "import numpy as np\n",
    "preds = np.random.rand(10,2)\n",
    "print(preds)"
   ]
  },
  {
   "cell_type": "code",
   "execution_count": 34,
   "id": "81a7c17a",
   "metadata": {},
   "outputs": [
    {
     "name": "stdout",
     "output_type": "stream",
     "text": [
      "[0 1 1 0 0 1 0 1 0 1]\n"
     ]
    }
   ],
   "source": [
    "pred_flat = np.argmax(preds, axis=1)\n",
    "print(pred_flat)"
   ]
  },
  {
   "cell_type": "code",
   "execution_count": 35,
   "id": "10cf6a3d",
   "metadata": {},
   "outputs": [
    {
     "name": "stdout",
     "output_type": "stream",
     "text": [
      "[0 1 1 0 0 1 0 1 0 1]\n"
     ]
    }
   ],
   "source": [
    "pred_flat = pred_flat.flatten()\n",
    "print(pred_flat)"
   ]
  },
  {
   "cell_type": "code",
   "execution_count": 36,
   "id": "217da535",
   "metadata": {},
   "outputs": [
    {
     "name": "stdout",
     "output_type": "stream",
     "text": [
      "(10,)\n"
     ]
    }
   ],
   "source": [
    "print(pred_flat.shape)"
   ]
  },
  {
   "cell_type": "code",
   "execution_count": null,
   "id": "e41c1de7",
   "metadata": {},
   "outputs": [],
   "source": []
  }
 ],
 "metadata": {
  "kernelspec": {
   "display_name": "Python 3 (ipykernel)",
   "language": "python",
   "name": "python3"
  },
  "language_info": {
   "codemirror_mode": {
    "name": "ipython",
    "version": 3
   },
   "file_extension": ".py",
   "mimetype": "text/x-python",
   "name": "python",
   "nbconvert_exporter": "python",
   "pygments_lexer": "ipython3",
   "version": "3.10.3"
  }
 },
 "nbformat": 4,
 "nbformat_minor": 5
}

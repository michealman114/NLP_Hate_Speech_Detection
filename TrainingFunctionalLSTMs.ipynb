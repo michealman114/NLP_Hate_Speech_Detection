{
 "cells": [
  {
   "cell_type": "code",
   "execution_count": 1,
   "id": "b0e64510",
   "metadata": {},
   "outputs": [],
   "source": [
    "import torch\n",
    "import torch.nn as nn \n",
    "import torch.nn.functional as F\n",
    "import torch.optim as optim\n",
    "import torch.utils.data as torch_data"
   ]
  },
  {
   "cell_type": "code",
   "execution_count": 2,
   "id": "96f2c010",
   "metadata": {},
   "outputs": [
    {
     "name": "stdout",
     "output_type": "stream",
     "text": [
      "running on CPU\n"
     ]
    }
   ],
   "source": [
    "from torch import cuda\n",
    "\n",
    "if cuda.is_available():\n",
    "    device = 'cuda'\n",
    "    torch.cuda.manual_seed_all(seed)\n",
    "    print(\"running on GPU:\", torch.cuda.get_device_name(0))\n",
    "else:\n",
    "    print(\"running on CPU\")"
   ]
  },
  {
   "cell_type": "code",
   "execution_count": 3,
   "id": "fc44ed98",
   "metadata": {
    "scrolled": true
   },
   "outputs": [],
   "source": [
    "from CommentsDatasets import * # torch dataset setup\n",
    "from models import * # all our LSTM based models"
   ]
  },
  {
   "cell_type": "code",
   "execution_count": 4,
   "id": "1ea55068",
   "metadata": {},
   "outputs": [],
   "source": [
    "train_comment_array = torch.load('./StoredTensors/w2v_train_comment_array.pt')\n",
    "train_title_array = torch.load('./StoredTensors/w2v_train_title_array.pt')\n",
    "train_labels = torch.load('./StoredTensors/w2v_train_labels.pt')\n",
    "\n",
    "test_comment_array = torch.load('./StoredTensors/w2v_test_comment_array.pt')\n",
    "test_title_array = torch.load('./StoredTensors/w2v_test_title_array.pt')\n",
    "test_labels = torch.load('./StoredTensors/w2v_test_labels.pt')"
   ]
  },
  {
   "cell_type": "code",
   "execution_count": 5,
   "id": "8cbcad50",
   "metadata": {},
   "outputs": [
    {
     "name": "stdout",
     "output_type": "stream",
     "text": [
      "float32\n",
      "<class 'numpy.ndarray'>\n",
      "float32\n",
      "<class 'numpy.ndarray'>\n"
     ]
    }
   ],
   "source": [
    "print(train_comment_array.dtype)\n",
    "print(type(train_comment_array))\n",
    "print(train_title_array.dtype)\n",
    "print(type(train_title_array))"
   ]
  },
  {
   "cell_type": "code",
   "execution_count": 6,
   "id": "651a460d",
   "metadata": {},
   "outputs": [
    {
     "name": "stdout",
     "output_type": "stream",
     "text": [
      "(1528, 244, 300) (1528, 13, 300) (1528,)\n",
      "(102, 126, 300) (102, 19, 300) (102,)\n"
     ]
    }
   ],
   "source": [
    "\"\"\"\n",
    "input data should be: (batch_size, max_length, embed_dim)\n",
    "labels should be: (batch_size,)\n",
    "\"\"\"\n",
    "print(train_comment_array.shape, train_title_array.shape, train_labels.shape)\n",
    "print(test_comment_array.shape, test_title_array.shape, test_labels.shape)"
   ]
  },
  {
   "cell_type": "code",
   "execution_count": 65,
   "id": "b6833068",
   "metadata": {},
   "outputs": [],
   "source": [
    "from tqdm import tqdm\n",
    "\n",
    "def train(data, labels, n_epochs, batch_size, modeltype, model = None):\n",
    "    device = torch.device(\"cuda\" if torch.cuda.is_available() else \"cpu\")\n",
    "    \n",
    "    if model is None:\n",
    "        model = modeltype(bidi=False,attention=False).to(device)\n",
    "        \n",
    "    opt = optim.Adam(model.parameters(), lr=0.001)\n",
    "\n",
    "    training_data = CommentsDataset(range(len(labels)), data, labels)\n",
    "\n",
    "    loader = torch_data.DataLoader(training_data, batch_size=batch_size, shuffle=True)\n",
    "\n",
    "    loss_fn = nn.BCELoss()\n",
    "\n",
    "    losses = []\n",
    "    for epoch in tqdm(range(n_epochs)):\n",
    "        epoch_loss = 0\n",
    "        for context, label in loader:\n",
    "            context = context.to(device)\n",
    "            label = label.to(device).type(torch.float32)\n",
    "\n",
    "            preds = model.forward(context)\n",
    "\n",
    "            opt.zero_grad()\n",
    "            loss = loss_fn(preds, label)\n",
    "            loss.backward()\n",
    "            opt.step()\n",
    "\n",
    "            epoch_loss += loss.item()\n",
    "        print('Loss:', epoch_loss)\n",
    "        losses.append(epoch_loss)\n",
    "\n",
    "    print(losses)\n",
    "    return model"
   ]
  },
  {
   "cell_type": "code",
   "execution_count": 75,
   "id": "e328c602",
   "metadata": {},
   "outputs": [
    {
     "name": "stderr",
     "output_type": "stream",
     "text": [
      " 20%|█████████                                    | 1/5 [00:08<00:34,  8.57s/it]"
     ]
    },
    {
     "name": "stdout",
     "output_type": "stream",
     "text": [
      "Loss: 7.802475154399872\n"
     ]
    },
    {
     "name": "stderr",
     "output_type": "stream",
     "text": [
      "\r",
      " 40%|██████████████████                           | 2/5 [00:16<00:24,  8.13s/it]"
     ]
    },
    {
     "name": "stdout",
     "output_type": "stream",
     "text": [
      "Loss: 7.234598994255066\n"
     ]
    },
    {
     "name": "stderr",
     "output_type": "stream",
     "text": [
      "\r",
      " 60%|███████████████████████████                  | 3/5 [00:25<00:16,  8.46s/it]"
     ]
    },
    {
     "name": "stdout",
     "output_type": "stream",
     "text": [
      "Loss: 7.1610758900642395\n"
     ]
    },
    {
     "name": "stderr",
     "output_type": "stream",
     "text": [
      "\r",
      " 80%|████████████████████████████████████         | 4/5 [00:34<00:08,  8.63s/it]"
     ]
    },
    {
     "name": "stdout",
     "output_type": "stream",
     "text": [
      "Loss: 7.05184930562973\n"
     ]
    },
    {
     "name": "stderr",
     "output_type": "stream",
     "text": [
      "100%|█████████████████████████████████████████████| 5/5 [00:42<00:00,  8.48s/it]"
     ]
    },
    {
     "name": "stdout",
     "output_type": "stream",
     "text": [
      "Loss: 6.764976263046265\n",
      "[7.802475154399872, 7.234598994255066, 7.1610758900642395, 7.05184930562973, 6.764976263046265]\n"
     ]
    },
    {
     "name": "stderr",
     "output_type": "stream",
     "text": [
      "\n"
     ]
    }
   ],
   "source": [
    "model = Full_LSTM_Model(bidi=True,attention=True)\n",
    "num_epochs = 5 #running on colab, use 30-40ish\n",
    "trained_model = train(train_comment_array,train_labels, num_epochs, 128, Full_LSTM_Model, model)"
   ]
  }
 ],
 "metadata": {
  "kernelspec": {
   "display_name": "Python 3 (ipykernel)",
   "language": "python",
   "name": "python3"
  },
  "language_info": {
   "codemirror_mode": {
    "name": "ipython",
    "version": 3
   },
   "file_extension": ".py",
   "mimetype": "text/x-python",
   "name": "python",
   "nbconvert_exporter": "python",
   "pygments_lexer": "ipython3",
   "version": "3.10.3"
  }
 },
 "nbformat": 4,
 "nbformat_minor": 5
}

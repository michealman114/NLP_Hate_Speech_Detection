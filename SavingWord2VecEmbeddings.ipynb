{
 "cells": [
  {
   "cell_type": "code",
   "execution_count": 1,
   "id": "fc7d3e6d",
   "metadata": {},
   "outputs": [],
   "source": [
    "import torch\n",
    "import torch.nn as nn \n",
    "import torch.nn.functional as F\n",
    "import torch.optim as optim\n",
    "import torch.utils.data as torch_data"
   ]
  },
  {
   "cell_type": "code",
   "execution_count": 2,
   "id": "66046679",
   "metadata": {},
   "outputs": [
    {
     "name": "stderr",
     "output_type": "stream",
     "text": [
      "[nltk_data] Downloading package stopwords to\n",
      "[nltk_data]     /Users/anugrahchemparathy/nltk_data...\n",
      "[nltk_data]   Package stopwords is already up-to-date!\n",
      "[nltk_data] Downloading package wordnet to\n",
      "[nltk_data]     /Users/anugrahchemparathy/nltk_data...\n",
      "[nltk_data]   Package wordnet is already up-to-date!\n",
      "[nltk_data] Downloading package punkt to\n",
      "[nltk_data]     /Users/anugrahchemparathy/nltk_data...\n",
      "[nltk_data]   Package punkt is already up-to-date!\n",
      "[nltk_data] Downloading package averaged_perceptron_tagger to\n",
      "[nltk_data]     /Users/anugrahchemparathy/nltk_data...\n",
      "[nltk_data]   Package averaged_perceptron_tagger is already up-to-\n",
      "[nltk_data]       date!\n"
     ]
    }
   ],
   "source": [
    "from data_processing import * # preprocessing code and embedding applications"
   ]
  },
  {
   "cell_type": "code",
   "execution_count": 3,
   "id": "56d5247c",
   "metadata": {},
   "outputs": [],
   "source": [
    "import gensim\n",
    "import gensim.downloader as api\n",
    "path = api.load(\"word2vec-google-news-300\", return_path=True)\n",
    "embed = gensim.models.KeyedVectors.load_word2vec_format(path, binary=True)"
   ]
  },
  {
   "cell_type": "code",
   "execution_count": 4,
   "id": "7ed75dba",
   "metadata": {},
   "outputs": [],
   "source": [
    "processed_data = process_data(embed)\n",
    "train_comment_array, train_title_array, train_labels = processed_data['train']\n",
    "test_comment_array, test_title_array, test_labels = processed_data['test']"
   ]
  },
  {
   "cell_type": "code",
   "execution_count": 5,
   "id": "dc06d16f",
   "metadata": {},
   "outputs": [
    {
     "name": "stdout",
     "output_type": "stream",
     "text": [
      "float32\n",
      "<class 'numpy.ndarray'>\n",
      "float32\n",
      "<class 'numpy.ndarray'>\n"
     ]
    }
   ],
   "source": [
    "print(train_comment_array.dtype)\n",
    "print(type(train_comment_array))\n",
    "print(train_title_array.dtype)\n",
    "print(type(train_title_array))"
   ]
  },
  {
   "cell_type": "code",
   "execution_count": 6,
   "id": "920f24b8",
   "metadata": {},
   "outputs": [],
   "source": [
    "torch.save(train_comment_array, './StoredTensors/w2v_train_comment_array.pt')\n",
    "torch.save(train_title_array, './StoredTensors/w2v_train_title_array.pt')\n",
    "torch.save(train_labels, './StoredTensors/w2v_train_labels.pt')\n",
    "\n",
    "torch.save(test_comment_array, './StoredTensors/w2v_test_comment_array.pt')\n",
    "torch.save(test_title_array, './StoredTensors/w2v_test_title_array.pt')\n",
    "torch.save(test_labels, './StoredTensors/w2v_test_labels.pt')"
   ]
  },
  {
   "cell_type": "code",
   "execution_count": null,
   "id": "0e70cd63",
   "metadata": {},
   "outputs": [],
   "source": []
  }
 ],
 "metadata": {
  "kernelspec": {
   "display_name": ".env",
   "language": "python",
   "name": ".env"
  },
  "language_info": {
   "codemirror_mode": {
    "name": "ipython",
    "version": 3
   },
   "file_extension": ".py",
   "mimetype": "text/x-python",
   "name": "python",
   "nbconvert_exporter": "python",
   "pygments_lexer": "ipython3",
   "version": "3.10.3"
  }
 },
 "nbformat": 4,
 "nbformat_minor": 5
}

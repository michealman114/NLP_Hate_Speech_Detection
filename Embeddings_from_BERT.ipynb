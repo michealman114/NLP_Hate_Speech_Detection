{
  "nbformat": 4,
  "nbformat_minor": 0,
  "metadata": {
    "colab": {
      "name": "Embeddings from BERT.ipynb",
      "provenance": [],
      "collapsed_sections": [],
      "include_colab_link": true
    },
    "kernelspec": {
      "name": "python3",
      "display_name": "Python 3"
    },
    "language_info": {
      "name": "python"
    },
    "accelerator": "GPU"
  },
  "cells": [
    {
      "cell_type": "markdown",
      "metadata": {
        "id": "view-in-github",
        "colab_type": "text"
      },
      "source": [
        "<a href=\"https://colab.research.google.com/github/michealman114/Natural-Language-Models-for-Hate-Speech-Classification/blob/main/Embeddings_from_BERT.ipynb\" target=\"_parent\"><img src=\"https://colab.research.google.com/assets/colab-badge.svg\" alt=\"Open In Colab\"/></a>"
      ]
    },
    {
      "cell_type": "code",
      "source": [
        "\"\"\"\n",
        "TODO: Decrease embedding size from BERT, currently is at least 768\n",
        "TODO: Further improve embedding choice - either: sum last 4 hidden layers OR concatenate last 4 hidden layers\n",
        "TODO: Switch from DistilBert to Bert?\n",
        "\"\"\""
      ],
      "metadata": {
        "id": "tTP2GSLRIiqc",
        "colab": {
          "base_uri": "https://localhost:8080/",
          "height": 70
        },
        "outputId": "0b54002d-e415-4f03-ec97-050ab77718e9"
      },
      "execution_count": null,
      "outputs": [
        {
          "output_type": "execute_result",
          "data": {
            "text/plain": [
              "'\\nTODO: Decrease embedding size from BERT, currently is at least 768\\nTODO: Further improve embedding choice - either: sum last 4 hidden layers OR concatenate last 4 hidden layers\\nTODO: Switch from DistilBert to Bert?\\n'"
            ],
            "application/vnd.google.colaboratory.intrinsic+json": {
              "type": "string"
            }
          },
          "metadata": {},
          "execution_count": 1
        }
      ]
    },
    {
      "cell_type": "code",
      "execution_count": 1,
      "metadata": {
        "id": "f6BwGO3XFG-C",
        "colab": {
          "base_uri": "https://localhost:8080/"
        },
        "outputId": "8b92a979-1e83-48c1-b605-40430a87ddcf"
      },
      "outputs": [
        {
          "output_type": "stream",
          "name": "stdout",
          "text": [
            "Requirement already satisfied: transformers in /usr/local/lib/python3.7/dist-packages (4.17.0)\n",
            "Requirement already satisfied: packaging>=20.0 in /usr/local/lib/python3.7/dist-packages (from transformers) (21.3)\n",
            "Requirement already satisfied: huggingface-hub<1.0,>=0.1.0 in /usr/local/lib/python3.7/dist-packages (from transformers) (0.4.0)\n",
            "Requirement already satisfied: numpy>=1.17 in /usr/local/lib/python3.7/dist-packages (from transformers) (1.21.5)\n",
            "Requirement already satisfied: tokenizers!=0.11.3,>=0.11.1 in /usr/local/lib/python3.7/dist-packages (from transformers) (0.11.6)\n",
            "Requirement already satisfied: pyyaml>=5.1 in /usr/local/lib/python3.7/dist-packages (from transformers) (6.0)\n",
            "Requirement already satisfied: tqdm>=4.27 in /usr/local/lib/python3.7/dist-packages (from transformers) (4.63.0)\n",
            "Requirement already satisfied: sacremoses in /usr/local/lib/python3.7/dist-packages (from transformers) (0.0.49)\n",
            "Requirement already satisfied: regex!=2019.12.17 in /usr/local/lib/python3.7/dist-packages (from transformers) (2019.12.20)\n",
            "Requirement already satisfied: filelock in /usr/local/lib/python3.7/dist-packages (from transformers) (3.6.0)\n",
            "Requirement already satisfied: requests in /usr/local/lib/python3.7/dist-packages (from transformers) (2.23.0)\n",
            "Requirement already satisfied: importlib-metadata in /usr/local/lib/python3.7/dist-packages (from transformers) (4.11.3)\n",
            "Requirement already satisfied: typing-extensions>=3.7.4.3 in /usr/local/lib/python3.7/dist-packages (from huggingface-hub<1.0,>=0.1.0->transformers) (3.10.0.2)\n",
            "Requirement already satisfied: pyparsing!=3.0.5,>=2.0.2 in /usr/local/lib/python3.7/dist-packages (from packaging>=20.0->transformers) (3.0.7)\n",
            "Requirement already satisfied: zipp>=0.5 in /usr/local/lib/python3.7/dist-packages (from importlib-metadata->transformers) (3.7.0)\n",
            "Requirement already satisfied: idna<3,>=2.5 in /usr/local/lib/python3.7/dist-packages (from requests->transformers) (2.10)\n",
            "Requirement already satisfied: chardet<4,>=3.0.2 in /usr/local/lib/python3.7/dist-packages (from requests->transformers) (3.0.4)\n",
            "Requirement already satisfied: certifi>=2017.4.17 in /usr/local/lib/python3.7/dist-packages (from requests->transformers) (2021.10.8)\n",
            "Requirement already satisfied: urllib3!=1.25.0,!=1.25.1,<1.26,>=1.21.1 in /usr/local/lib/python3.7/dist-packages (from requests->transformers) (1.24.3)\n",
            "Requirement already satisfied: click in /usr/local/lib/python3.7/dist-packages (from sacremoses->transformers) (7.1.2)\n",
            "Requirement already satisfied: joblib in /usr/local/lib/python3.7/dist-packages (from sacremoses->transformers) (1.1.0)\n",
            "Requirement already satisfied: six in /usr/local/lib/python3.7/dist-packages (from sacremoses->transformers) (1.15.0)\n"
          ]
        }
      ],
      "source": [
        "!pip install transformers"
      ]
    },
    {
      "cell_type": "code",
      "source": [
        "from transformers import DistilBertTokenizer, DistilBertModel, DistilBertConfig\n",
        "\n",
        "import torch\n",
        "import torch.nn as nn \n",
        "import torch.utils.data as torch_data\n",
        "import torch.optim as optim\n",
        "\n",
        "import numpy as np\n",
        "import json"
      ],
      "metadata": {
        "id": "c7F2A4b6FaYl"
      },
      "execution_count": 2,
      "outputs": []
    },
    {
      "cell_type": "code",
      "source": [
        "from torch import cuda\n",
        "\n",
        "if cuda.is_available():\n",
        "    device = 'cuda'\n",
        "    seed = 4814\n",
        "    torch.cuda.manual_seed_all(seed)\n",
        "    print(\"running on GPU:\", torch.cuda.get_device_name(0))\n",
        "else:\n",
        "    device = 'cpu'\n",
        "    print(\"running on CPU\")"
      ],
      "metadata": {
        "colab": {
          "base_uri": "https://localhost:8080/"
        },
        "id": "MKGlhqr_U7QU",
        "outputId": "4ce4fb5f-dd10-4caf-a167-0863f829d369"
      },
      "execution_count": 3,
      "outputs": [
        {
          "output_type": "stream",
          "name": "stdout",
          "text": [
            "running on GPU: Tesla T4\n"
          ]
        }
      ]
    },
    {
      "cell_type": "code",
      "source": [
        "def getCommentsTitlesLabels(file_lines):\n",
        "    comment_list = []\n",
        "    title_list = []\n",
        "    labels = []\n",
        "    for line in file_lines:\n",
        "        content = json.loads(line)\n",
        "\n",
        "        comment = content['text']\n",
        "        comment_list.append(comment)\n",
        "\n",
        "        title = content['title']\n",
        "        title_list.append(title)\n",
        "\n",
        "        labels.append(content['label'])\n",
        "    \n",
        "    return comment_list,title_list,labels"
      ],
      "metadata": {
        "id": "qg5GItyeST6k"
      },
      "execution_count": 4,
      "outputs": []
    },
    {
      "cell_type": "code",
      "source": [
        "config = DistilBertConfig.from_pretrained('distilbert-base-uncased', output_hidden_states=True)\n",
        "model = DistilBertModel.from_pretrained('distilbert-base-uncased', config=config).to(device)\n",
        "tokenizer = DistilBertTokenizer.from_pretrained('distilbert-base-uncased')"
      ],
      "metadata": {
        "colab": {
          "base_uri": "https://localhost:8080/"
        },
        "id": "EcRhQJE2OsgC",
        "outputId": "58de9465-537d-46fe-e3c5-6a65856195f7"
      },
      "execution_count": 5,
      "outputs": [
        {
          "output_type": "stream",
          "name": "stderr",
          "text": [
            "Some weights of the model checkpoint at distilbert-base-uncased were not used when initializing DistilBertModel: ['vocab_layer_norm.weight', 'vocab_layer_norm.bias', 'vocab_transform.weight', 'vocab_transform.bias', 'vocab_projector.bias', 'vocab_projector.weight']\n",
            "- This IS expected if you are initializing DistilBertModel from the checkpoint of a model trained on another task or with another architecture (e.g. initializing a BertForSequenceClassification model from a BertForPreTraining model).\n",
            "- This IS NOT expected if you are initializing DistilBertModel from the checkpoint of a model that you expect to be exactly identical (initializing a BertForSequenceClassification model from a BertForSequenceClassification model).\n"
          ]
        }
      ]
    },
    {
      "cell_type": "code",
      "source": [
        "#test_lines = open(\"./Data/modern_comments.json\", \"r\").readlines() # modern data\n",
        "#test_comments,test_titles,test_labels = getCommentsTitlesLabels(test_lines)\n",
        "#test_labels = torch.tensor(test_labels)\n",
        "\n",
        "#tokenized_test_comments = tokenizer(train_comments, padding = True, truncation = True, return_tensors=\"pt\").to(device)\n",
        "#tokenized_test_titles = tokenizer(train_titles, padding = True, truncation = True, return_tensors=\"pt\").to(device)"
      ],
      "metadata": {
        "id": "FvuC9qW0ayUE"
      },
      "execution_count": null,
      "outputs": []
    },
    {
      "cell_type": "code",
      "source": [
        "train_lines = open(\"./Data/fox-news-comments.json\", \"r\").readlines() # original 2015 data\n",
        "train_comments, train_titles, train_labels = getCommentsTitlesLabels(train_lines)\n",
        "train_labels = torch.tensor(train_labels)"
      ],
      "metadata": {
        "id": "C10afAGQFoyW"
      },
      "execution_count": 6,
      "outputs": []
    },
    {
      "cell_type": "code",
      "source": [
        "train_labels.shape[0]"
      ],
      "metadata": {
        "colab": {
          "base_uri": "https://localhost:8080/"
        },
        "id": "_6gjARAjcMsa",
        "outputId": "0ead7a01-4090-4d49-a540-68633daa9f9f"
      },
      "execution_count": 8,
      "outputs": [
        {
          "output_type": "execute_result",
          "data": {
            "text/plain": [
              "1528"
            ]
          },
          "metadata": {},
          "execution_count": 8
        }
      ]
    },
    {
      "cell_type": "code",
      "source": [
        "class ProcessingDataset(torch.utils.data.Dataset): # renamed to ProcessingDataset to avoid reuse of name\n",
        "    def __init__(self, comments, titles, labels):\n",
        "        \"\"\"\n",
        "        comments/titles: (batch_size, max_length, embed_dim)\n",
        "        labels: (batch_size,)\n",
        "        \"\"\"\n",
        "        #Initialization\n",
        "        self.comments = comments\n",
        "        self.titles = titles\n",
        "        self.labels = labels\n",
        "        self.length = labels.shape[0]\n",
        "\n",
        "    def __len__(self):\n",
        "        return self.length\n",
        "\n",
        "    def __getitem__(self, index):\n",
        "        # Load data and get label\n",
        "        comment = self.comments[index]\n",
        "        title = self.titles[index]\n",
        "        label = self.labels[index]\n",
        "\n",
        "        return comment,title,label"
      ],
      "metadata": {
        "id": "5hYoJd4ibafo"
      },
      "execution_count": 7,
      "outputs": []
    },
    {
      "cell_type": "code",
      "source": [
        "train_data = ProcessingDataset(train_comments, train_titles, train_labels)\n",
        "train_loader = torch_data.DataLoader(train_data, batch_size=128, shuffle=True)"
      ],
      "metadata": {
        "id": "S0wUvg22cpbO"
      },
      "execution_count": 8,
      "outputs": []
    },
    {
      "cell_type": "code",
      "source": [
        "print(train_comments[:5])"
      ],
      "metadata": {
        "colab": {
          "base_uri": "https://localhost:8080/"
        },
        "id": "p-1mpYxCeBAZ",
        "outputId": "fc797341-3e87-493e-924d-ceefc932aa31"
      },
      "execution_count": 15,
      "outputs": [
        {
          "output_type": "stream",
          "name": "stdout",
          "text": [
            "['Merkel would never say NO', 'Expect more and more women to be asking .. \"why are men no longer interested in me\"! We\\'re not going touch you until you pull our pants down!', \"Groping people in public wasn't already illegal? What's up with that, Deutschland?\", 'Merkel, possible the only person in charge who is worse than what we have. Obama is trying his hardest though to get to Merkel\\'s level. \"A 21-year-old Iraqi man was convicted of sexual assault and given a one-year suspended sentence. A 26-year-old Algerian man was convicted of abetting a sexual assault and attempted assault, and given the same sentence.\" Sounds exactly like how Obama is trying to let all of the black people in this country get away with everything.', 'They know very well, no means NO! They need to pass a law making it legal to castrate those animals.']\n"
          ]
        }
      ]
    },
    {
      "cell_type": "code",
      "source": [
        "# Put the model in eval mode to turn off dropout regularization etc.\n",
        "model.eval()\n",
        "\n",
        "embedded_train_comments = []\n",
        "comments_attention_masks = []\n",
        "embedded_train_titles = []\n",
        "titles_attention_masks = []\n",
        "BERT_train_labels = []\n",
        "\n",
        "i = 1\n",
        "\n",
        "#use torch.no_grad() to speed up the embedding process\n",
        "with torch.no_grad():\n",
        "    for comments, titles, labels in train_loader:\n",
        "        \"\"\"\n",
        "        comments: list of size (num_comments)\n",
        "        titles: list of size (num_comments)\n",
        "        labels: torch.tensor of size (num_comments)\n",
        "        \"\"\"\n",
        "\n",
        "        tokenized_train_comments = tokenizer(comments, padding = \"max_length\", max_length = 512, truncation = True, return_tensors=\"pt\").to(device)\n",
        "        tokenized_train_titles = tokenizer(titles, padding = \"max_length\", max_length = 512, truncation = True, return_tensors=\"pt\").to(device)\n",
        "\n",
        "\n",
        "        train_comments_outputs = model(**tokenized_train_comments) # (last_hidden_state,hidden_states[optional], attentions[optional])\n",
        "        train_titles_outputs = model(**tokenized_train_titles) # (last_hidden_state,hidden_states[optional], attentions[optional])\n",
        "\n",
        "        all_train_comments_embeddings = train_comments_outputs[1] #tuple of hidden states from each layer of DistilBERT\n",
        "        all_train_titles_embeddings = train_titles_outputs[1] #tuple of hidden states from each layer of DistilBERT\n",
        "\n",
        "        BERT_train_comments_embeddings_temp = all_train_comments_embeddings[-2]\n",
        "        BERT_train_titles_embeddings_temp = all_train_titles_embeddings[-2]\n",
        "\n",
        "        #print(BERT_train_comments_embeddings_temp.shape) #(batch_size=128, length = 512, embed_dim = 768)\n",
        "\n",
        "        embedded_train_comments.append(BERT_train_comments_embeddings_temp)\n",
        "        embedded_train_titles.append(BERT_train_titles_embeddings_temp)\n",
        "        BERT_train_labels.append(labels)\n",
        "\n",
        "        comments_attention_masks.append(tokenized_train_comments['attention_mask'])\n",
        "        titles_attention_masks.append(tokenized_train_titles['attention_mask'])\n",
        "\n",
        "        print(f'iteration {i} completed')\n",
        "        i+= 1\n"
      ],
      "metadata": {
        "id": "AQkKSrHYdGxt",
        "colab": {
          "base_uri": "https://localhost:8080/"
        },
        "outputId": "0fbc077d-dddf-42f7-cbf0-3b7b0912782a"
      },
      "execution_count": 9,
      "outputs": [
        {
          "output_type": "stream",
          "name": "stdout",
          "text": [
            "iteration 1 completed\n",
            "iteration 2 completed\n",
            "iteration 3 completed\n",
            "iteration 4 completed\n",
            "iteration 5 completed\n",
            "iteration 6 completed\n",
            "iteration 7 completed\n",
            "iteration 8 completed\n",
            "iteration 9 completed\n",
            "iteration 10 completed\n",
            "iteration 11 completed\n",
            "iteration 12 completed\n",
            "torch.Size([1528, 512, 768])\n",
            "torch.Size([1528, 512, 768])\n",
            "torch.Size([1528, 512])\n",
            "torch.Size([1528, 512])\n"
          ]
        }
      ]
    },
    {
      "cell_type": "code",
      "source": [
        "BERT_train_comments_embeddings = torch.cat(embedded_train_comments)\n",
        "BERT_train_titles_embeddings = torch.cat(embedded_train_titles)\n",
        "BERT_train_comments_attention_masks = torch.cat(comments_attention_masks)\n",
        "BERT_train_titles_attention_masks = torch.cat(titles_attention_masks)\n",
        "\n",
        "BERT_train_labels = torch.cat(BERT_train_labels)\n",
        "\n",
        "\n",
        "print(BERT_train_comments_embeddings.shape)\n",
        "print(BERT_train_titles_embeddings.shape)\n",
        "print(BERT_train_comments_attention_masks.shape)\n",
        "print(BERT_train_titles_attention_masks.shape)\n",
        "\n",
        "print(BERT_train_labels.shape)"
      ],
      "metadata": {
        "colab": {
          "base_uri": "https://localhost:8080/"
        },
        "id": "3z6MbqQgoNcq",
        "outputId": "98c51dd6-ae89-43ab-a53e-21f06e3ffce2"
      },
      "execution_count": 18,
      "outputs": [
        {
          "output_type": "stream",
          "name": "stdout",
          "text": [
            "torch.Size([1528])\n"
          ]
        }
      ]
    },
    {
      "cell_type": "code",
      "source": [
        "torch.save(BERT_train_comments_embeddings, './StoredTensors/BERT_train_comments_embeddings.pt')\n",
        "torch.save(BERT_train_titles_embeddings, './StoredTensors/BERT_train_titles_embeddings.pt')\n",
        "\n",
        "torch.save(BERT_train_comments_attention_masks, './StoredTensors/BERT_train_comments_attention_masks.pt')\n",
        "torch.save(BERT_train_titles_attention_masks, './StoredTensors/BERT_train_titles_attention_masks.pt')\n",
        "\n",
        "torch.save(BERT_train_labels, './StoredTensors/BERT_train_labels.pt')"
      ],
      "metadata": {
        "id": "F97hmB_dkpT8"
      },
      "execution_count": 11,
      "outputs": []
    },
    {
      "cell_type": "code",
      "source": [
        "from google.colab import drive\n",
        "drive.mount('/content/drive')"
      ],
      "metadata": {
        "colab": {
          "base_uri": "https://localhost:8080/"
        },
        "id": "JFVLip3gmLK6",
        "outputId": "c412b922-b79d-43eb-a618-65bb3c1365aa"
      },
      "execution_count": 13,
      "outputs": [
        {
          "output_type": "stream",
          "name": "stdout",
          "text": [
            "Mounted at /content/drive\n"
          ]
        }
      ]
    },
    {
      "cell_type": "code",
      "source": [
        "!cp ./StoredTensors/BERT_train_titles_attention_masks.pt /content/drive/MyDrive\n",
        "!cp ./StoredTensors/BERT_train_titles_embeddings.pt /content/drive/MyDrive\n",
        "!cp ./StoredTensors/BERT_train_comments_attention_masks.pt /content/drive/MyDrive\n",
        "!cp ./StoredTensors/BERT_train_comments_embeddings.pt /content/drive/MyDrive\n",
        "\n",
        "!cp ./StoredTensors/BERT_train_labels.pt /content/drive/MyDrive"
      ],
      "metadata": {
        "id": "KHvp1Ou6mSnp"
      },
      "execution_count": 15,
      "outputs": []
    },
    {
      "cell_type": "code",
      "source": [
        "train_comments_array = torch.load('drive/MyDrive/Natural Language Models for Hate Speech Classification/StoredTensors/BERT_train_comments_attention_masks.pt')"
      ],
      "metadata": {
        "id": "I5VPUVmttJ5p"
      },
      "execution_count": 22,
      "outputs": []
    },
    {
      "cell_type": "code",
      "source": [
        "print(train_comments_array.shape)"
      ],
      "metadata": {
        "colab": {
          "base_uri": "https://localhost:8080/"
        },
        "id": "rQGajISDtQkp",
        "outputId": "c564d16e-44b3-4e9c-b6d8-55fae065d54a"
      },
      "execution_count": 23,
      "outputs": [
        {
          "output_type": "stream",
          "name": "stdout",
          "text": [
            "torch.Size([1528, 512])\n"
          ]
        }
      ]
    },
    {
      "cell_type": "code",
      "source": [
        ""
      ],
      "metadata": {
        "id": "UmWGimwTdPXE"
      },
      "execution_count": null,
      "outputs": []
    }
  ]
}